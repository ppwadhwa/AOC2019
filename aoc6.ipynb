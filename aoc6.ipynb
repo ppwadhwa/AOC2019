{
 "cells": [
  {
   "cell_type": "code",
   "execution_count": null,
   "metadata": {},
   "outputs": [],
   "source": [
    "import codecs\n",
    "\n",
    "import bs4\n",
    "\n",
    "from bs4 import BeautifulSoup\n",
    "import numpy as np"
   ]
  },
  {
   "cell_type": "code",
   "execution_count": null,
   "metadata": {},
   "outputs": [],
   "source": [
    "f=codecs.open(\"input06.html\", 'r')"
   ]
  },
  {
   "cell_type": "code",
   "execution_count": null,
   "metadata": {},
   "outputs": [],
   "source": [
    "document= BeautifulSoup(f.read()).get_text()\n",
    "\n",
    "vals = document.split('\\n')\n",
    "vals = vals[0:-1]"
   ]
  },
  {
   "cell_type": "code",
   "execution_count": null,
   "metadata": {},
   "outputs": [],
   "source": [
    "def get_2_lists(vals):\n",
    "    centers = []\n",
    "    orbits = []\n",
    "    \n",
    "    for n in range(len(vals)):\n",
    "        #split each thing into two different lists\n",
    "        #print(n)\n",
    "        vs = vals[n].split(')')\n",
    "        centers.append(vs[0])\n",
    "        orbits.append(vs[1])\n",
    "    return centers, orbits"
   ]
  },
  {
   "cell_type": "code",
   "execution_count": null,
   "metadata": {},
   "outputs": [],
   "source": [
    "def get_origins(centers, orbits):\n",
    "    origins = list(set(centers) - set(orbits))\n",
    "    return origins"
   ]
  },
  {
   "cell_type": "code",
   "execution_count": null,
   "metadata": {},
   "outputs": [],
   "source": [
    "centers, orbits = get_2_lists(vals)"
   ]
  },
  {
   "cell_type": "code",
   "execution_count": null,
   "metadata": {},
   "outputs": [],
   "source": [
    "origin = get_origins(centers, orbits)"
   ]
  },
  {
   "cell_type": "code",
   "execution_count": null,
   "metadata": {},
   "outputs": [],
   "source": [
    "origin"
   ]
  },
  {
   "cell_type": "code",
   "execution_count": null,
   "metadata": {},
   "outputs": [],
   "source": [
    "#centers1 == np.array(centers)\n",
    "orbits1 = np.array(orbits)\n",
    "cnt = 0  \n",
    "#how many steps does each take to get back to COM?\n",
    "\n",
    "for n in range(len(orbits)):\n",
    "    done = False\n",
    "    idx = n\n",
    "    #pdb.set_trace()\n",
    "    while done == False:\n",
    "        cc = centers[idx]\n",
    "        oc = orbits[idx]\n",
    "        cnt = cnt+1\n",
    "        if centers[idx] == 'COM':\n",
    "            done = True\n",
    "        else:\n",
    "            #find where the center is orbitting something else\n",
    "            idx = int(np.argwhere(orbits1 == cc))"
   ]
  },
  {
   "cell_type": "code",
   "execution_count": null,
   "metadata": {},
   "outputs": [],
   "source": [
    "cnt"
   ]
  },
  {
   "cell_type": "code",
   "execution_count": null,
   "metadata": {},
   "outputs": [],
   "source": [
    "#need to find my path to COM\n",
    "def find_path(vals, val):\n",
    "    #pdb.set_trace()\n",
    "    centers, orbits = get_2_lists(vals)\n",
    "    orbits1 = np.array(orbits)\n",
    "    idx = int(np.argwhere(orbits1 == val))\n",
    "    path1 = []\n",
    "    path1.append(val)\n",
    "    done = False\n",
    "    while done == False:\n",
    "        cc = centers[idx]\n",
    "        oc = orbits[idx]\n",
    "        path1.append(cc)\n",
    "        if cc == 'COM':\n",
    "            done = True\n",
    "            \n",
    "        else:\n",
    "            idx = int(np.argwhere(orbits1 == cc))\n",
    "            \n",
    "    return path1"
   ]
  },
  {
   "cell_type": "code",
   "execution_count": null,
   "metadata": {},
   "outputs": [],
   "source": [
    "path1 = find_path(vals, 'YOU')"
   ]
  },
  {
   "cell_type": "code",
   "execution_count": null,
   "metadata": {},
   "outputs": [],
   "source": [
    "path2 = find_path(vals, 'SAN')"
   ]
  },
  {
   "cell_type": "code",
   "execution_count": null,
   "metadata": {},
   "outputs": [],
   "source": [
    "path2"
   ]
  },
  {
   "cell_type": "code",
   "execution_count": null,
   "metadata": {},
   "outputs": [],
   "source": [
    "branchesY = list(set(path1) - set(path2))\n",
    "branchesS = list(set(path2) - set(path1))"
   ]
  },
  {
   "cell_type": "code",
   "execution_count": null,
   "metadata": {},
   "outputs": [],
   "source": [
    "branchesY, branchesS"
   ]
  },
  {
   "cell_type": "code",
   "execution_count": null,
   "metadata": {},
   "outputs": [],
   "source": [
    "tot = len(branchesY) - 1  + len(branchesS) -1"
   ]
  },
  {
   "cell_type": "code",
   "execution_count": null,
   "metadata": {},
   "outputs": [],
   "source": [
    "tot"
   ]
  }
 ],
 "metadata": {
  "kernelspec": {
   "display_name": "Python 3",
   "language": "python",
   "name": "python3"
  },
  "language_info": {
   "codemirror_mode": {
    "name": "ipython",
    "version": 3
   },
   "file_extension": ".py",
   "mimetype": "text/x-python",
   "name": "python",
   "nbconvert_exporter": "python",
   "pygments_lexer": "ipython3",
   "version": "3.7.4"
  }
 },
 "nbformat": 4,
 "nbformat_minor": 4
}
