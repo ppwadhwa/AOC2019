{
 "cells": [
  {
   "cell_type": "code",
   "execution_count": null,
   "metadata": {},
   "outputs": [],
   "source": [
    "import numpy as np\n",
    "import math"
   ]
  },
  {
   "cell_type": "code",
   "execution_count": null,
   "metadata": {},
   "outputs": [],
   "source": [
    "def update_vel_pos(vel, pos):\n",
    "    #pos is a list of tuples with 3 values: posx, posy, posz\n",
    "    #there list has an entry for each moon\n",
    "    \n",
    "    for n in range(4):\n",
    "        #go through each one to find out how much each dimension needs to change.\n",
    "        vsx = []\n",
    "        vsy = []\n",
    "        vsz = []\n",
    "        for m in range(4):\n",
    "            if n != m:\n",
    "                if pos[n][0]>pos[m][0]:\n",
    "                    vsx.append(-1)\n",
    "                elif pos[n][0]<pos[m][0]:\n",
    "                    vsx.append(1)\n",
    "                else:\n",
    "                    vsx.append(0)\n",
    "                    \n",
    "                if pos[n][1]>pos[m][1]:\n",
    "                    vsy.append(-1)\n",
    "                elif pos[n][1]<pos[m][1]:\n",
    "                    vsy.append(1)\n",
    "                else:\n",
    "                    vsy.append(0)\n",
    "                    \n",
    "                if pos[n][2]>pos[m][2]:\n",
    "                    vsz.append(-1)\n",
    "                elif pos[n][2]<pos[m][2]:\n",
    "                    vsz.append(1)\n",
    "                else:\n",
    "                    vsz.append(0)\n",
    "                    \n",
    "        vel1 = (sum(vsx), sum(vsy), sum(vsz))\n",
    "        vel[n] = np.add(vel[n], vel1)\n",
    "    \n",
    "    #now update each position\n",
    "    for n in range(4):\n",
    "        pos[n] = np.add(vel[n], pos[n])\n",
    "        \n",
    "    return vel, pos"
   ]
  },
  {
   "cell_type": "code",
   "execution_count": null,
   "metadata": {},
   "outputs": [],
   "source": [
    "def compute_energies(pos, vel):\n",
    "    PE = []\n",
    "    KE = []\n",
    "    TE = []\n",
    "    for n in range(4):\n",
    "        PE.append(sum(np.abs(pos[n])))\n",
    "        KE.append(sum(np.abs(vel[n])))\n",
    "        TE.append(PE[n]*KE[n])\n",
    "    return PE, KE, TE"
   ]
  },
  {
   "cell_type": "code",
   "execution_count": null,
   "metadata": {},
   "outputs": [],
   "source": [
    "#puzzle input\n",
    "pos = [(-4, -14, 8), (1,-8, 10), (-15, 2, 1), (-17,-17,16)]\n",
    "vel = [(0,0,0),(0,0,0),(0,0,0),(0,0,0)]"
   ]
  },
  {
   "cell_type": "code",
   "execution_count": null,
   "metadata": {},
   "outputs": [],
   "source": [
    "steps = 1000\n",
    "for n in range(steps):\n",
    "    #update position and velocity\n",
    "    vel, pos = update_vel_pos(vel, pos)\n",
    "    \n",
    "#compute the energies\n",
    "PE, KE, TE = compute_energies(pos, vel)\n",
    "SE = sum(TE)\n",
    "#answer part 1\n",
    "SE"
   ]
  },
  {
   "cell_type": "markdown",
   "metadata": {},
   "source": [
    "# Part 2 "
   ]
  },
  {
   "cell_type": "code",
   "execution_count": null,
   "metadata": {},
   "outputs": [],
   "source": [
    "def get_pos_freq(p, vel, pos, steps):\n",
    "    #for a given position, p, out of x,y,z (0,1,2) find the frequency that it comes back to the same for a given moon.\n",
    "    str1 = (\n",
    "        str(pos[0][p])+\n",
    "        str(pos[1][p])+\n",
    "        str(pos[2][p])+\n",
    "        str(pos[3][p])+\n",
    "        str(vel[0][p])+\n",
    "        str(vel[1][p])+\n",
    "        str(vel[2][p])+\n",
    "        str(vel[3][p])\n",
    "    )\n",
    "    \n",
    "    strs = []\n",
    "    strs.append(str1)\n",
    "    \n",
    "    for n in range(steps):\n",
    "        vel, pos = update_vel_pos(vel, pos)\n",
    "        str2 = (\n",
    "        str(pos[0][p])+\n",
    "        str(pos[1][p])+\n",
    "        str(pos[2][p])+\n",
    "        str(pos[3][p])+\n",
    "        str(vel[0][p])+\n",
    "        str(vel[1][p])+\n",
    "        str(vel[2][p])+\n",
    "        str(vel[3][p])\n",
    "    )\n",
    "        if str2 in strs:\n",
    "            break\n",
    "    \n",
    "    return n+1"
   ]
  },
  {
   "cell_type": "code",
   "execution_count": null,
   "metadata": {},
   "outputs": [],
   "source": [
    "#puzzle input\n",
    "pos = [(-4, -14, 8), (1,-8, 10), (-15, 2, 1), (-17,-17,16)]\n",
    "vel = [(0,0,0),(0,0,0),(0,0,0),(0,0,0)]\n",
    "num0 = get_pos_freq(0, vel.copy(), pos.copy(), 1000000)\n",
    "num1 = get_pos_freq(1, vel.copy(), pos.copy(), 1000000)\n",
    "num2 = get_pos_freq(2, vel.copy(), pos.copy(), 1000000)\n",
    "lcm01 = (num0*num1)/math.gcd(num0, num1)\n",
    "lcm012 = lcm01*num2/math.gcd(int(lcm01), num2)\n",
    "#answer part 2\n",
    "lcm012"
   ]
  },
  {
   "cell_type": "code",
   "execution_count": null,
   "metadata": {},
   "outputs": [],
   "source": []
  }
 ],
 "metadata": {
  "kernelspec": {
   "display_name": "Python 3",
   "language": "python",
   "name": "python3"
  },
  "language_info": {
   "codemirror_mode": {
    "name": "ipython",
    "version": 3
   },
   "file_extension": ".py",
   "mimetype": "text/x-python",
   "name": "python",
   "nbconvert_exporter": "python",
   "pygments_lexer": "ipython3",
   "version": "3.7.4"
  }
 },
 "nbformat": 4,
 "nbformat_minor": 4
}
