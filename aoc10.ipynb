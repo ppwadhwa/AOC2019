{
 "cells": [
  {
   "cell_type": "code",
   "execution_count": null,
   "metadata": {},
   "outputs": [],
   "source": [
    "import numpy as np"
   ]
  },
  {
   "cell_type": "code",
   "execution_count": null,
   "metadata": {},
   "outputs": [],
   "source": [
    "def get_asteroid_locs(vals):\n",
    "    tints = vals\n",
    "    for n in range(len(tints)):\n",
    "        tints[n] = tints[n].replace('.', '0')\n",
    "        tints[n] = tints[n].replace('#', '1')\n",
    "        tints[n] = list(tints[n])\n",
    "        \n",
    "    tints2 = np.array(tints)\n",
    "    astds = np.where(tints2 == '1')\n",
    "    return tints2, astds\n",
    "\n",
    "    #tints[n] = int(tints[n])"
   ]
  },
  {
   "cell_type": "code",
   "execution_count": null,
   "metadata": {},
   "outputs": [],
   "source": [
    "def get_max_asteroids(tints2, astds):\n",
    "    numast = np.zeros(tints2.shape)\n",
    "    #numast[:] = np.nan\n",
    "    for n in range(len(astds[0])):\n",
    "        castdr = astds[0][n]\n",
    "        castdc = astds[1][n]\n",
    "\n",
    "        #not taking about the current row or column.  can do that to optimize if it becomes important\n",
    "        angs =[]\n",
    "        for m in range(len(astds[0])):\n",
    "            if m == n:\n",
    "                continue\n",
    "            else:\n",
    "                nastdr = astds[0][m]\n",
    "                nastdc = astds[1][m]\n",
    "                a1 = np.arctan2(nastdr - castdr, nastdc - castdc)\n",
    "                angs.append(a1)\n",
    "        #pdb.set_trace()    \n",
    "        numast[astds[0][n]][astds[1][n]] = len(np.unique(angs))\n",
    "        \n",
    "    return numast, np.max(numast)"
   ]
  },
  {
   "cell_type": "code",
   "execution_count": null,
   "metadata": {},
   "outputs": [],
   "source": [
    "def get_all_angles_dists(astds, maxr, maxc):\n",
    "    #angast = np.array(astds.shape)\n",
    "    #tmp = tints2.shape\n",
    "    xs =  astds[1] - maxc \n",
    "    ys = maxr -  astds[0]\n",
    "    #pdb.set_trace()\n",
    "    angs = np.arctan2(ys, xs)\n",
    "    angs = angs*180/np.pi\n",
    "    angs = np.mod(90 - angs, 360)\n",
    "    dists = np.sqrt(np.power(ys,2)+np.power(xs,2))\n",
    "    \n",
    "    return angs, dists, xs, ys"
   ]
  },
  {
   "cell_type": "code",
   "execution_count": null,
   "metadata": {},
   "outputs": [],
   "source": [
    "f=open(\"input10.html\", 'r')\n",
    "\n",
    "vals = f.read()\n",
    "f.close()"
   ]
  },
  {
   "cell_type": "code",
   "execution_count": null,
   "metadata": {},
   "outputs": [],
   "source": [
    "vals = vals.split('\\n')"
   ]
  },
  {
   "cell_type": "code",
   "execution_count": null,
   "metadata": {},
   "outputs": [],
   "source": [
    "vals = vals[0:-1]"
   ]
  },
  {
   "cell_type": "code",
   "execution_count": null,
   "metadata": {},
   "outputs": [],
   "source": [
    "vals"
   ]
  },
  {
   "cell_type": "code",
   "execution_count": null,
   "metadata": {},
   "outputs": [],
   "source": [
    "tints2, astds =  get_asteroid_locs(vals)\n",
    "\n",
    "numast, maxast = get_max_asteroids(tints2, astds)\n",
    "[maxr, maxc] = np.where(numast == maxast)\n",
    "angs, dists, xs, ys = get_all_angles_dists(astds, maxr, maxc)\n",
    "#answer part 1\n",
    "maxast"
   ]
  },
  {
   "cell_type": "code",
   "execution_count": null,
   "metadata": {},
   "outputs": [],
   "source": [
    "import pdb\n",
    "cnt = 0\n",
    "sorti = np.argsort(angs)\n",
    "angs2 = angs[sorti]\n",
    "angsc = np.unique(angs2)\n",
    "\n",
    "dists2 = dists[sorti]\n",
    "n = 0\n",
    "while cnt < len(angs):\n",
    "    #pdb.set_trace()\n",
    "    cang = angsc[n]\n",
    "   \n",
    "    if ~np.isnan(cang):\n",
    "        idx = np.where(angs2 == cang)\n",
    "        cd = dists2[idx]\n",
    "        #if len(idx) > 1:\n",
    "        #    pdb.set_trace()\n",
    "        #get the closest asteroid at this angle\n",
    "        dss = np.argsort(cd)\n",
    "        idx2 = idx[0][dss[0]]\n",
    "        cnt += 1\n",
    "        if cnt == 200:\n",
    "            #pdb.set_trace()\n",
    "            xss = xs[sorti]\n",
    "            yss = ys[sorti]\n",
    "            obx = xss[idx2]+maxc\n",
    "            oby = maxr-yss[idx2]\n",
    "            print(obx)\n",
    "            print(oby)\n",
    "        #else:\n",
    "        #idx2 = np.where(angs2 == cang and dists2 == mind)\n",
    "        #    angs2[idx2] = np.nan\n",
    "        #    dists2[idx2] = np.nan\n",
    "        #    if len(cd) == 1:\n",
    "        #        angsc[n] = np.nan\n",
    "        #if len(idx) == 1:\n",
    "            #can get rid of this angle now\n",
    "        #    angsc[n] = np.nan\n",
    "        \n",
    "        \n",
    "    \n",
    "    n += 1\n",
    "        \n",
    "    if n == len(angsc):\n",
    "        n = 0\n",
    "    \n",
    "    "
   ]
  },
  {
   "cell_type": "code",
   "execution_count": null,
   "metadata": {},
   "outputs": [],
   "source": [
    "#answer part 2  ^\n"
   ]
  },
  {
   "cell_type": "code",
   "execution_count": null,
   "metadata": {},
   "outputs": [],
   "source": []
  }
 ],
 "metadata": {
  "kernelspec": {
   "display_name": "Python 3",
   "language": "python",
   "name": "python3"
  },
  "language_info": {
   "codemirror_mode": {
    "name": "ipython",
    "version": 3
   },
   "file_extension": ".py",
   "mimetype": "text/x-python",
   "name": "python",
   "nbconvert_exporter": "python",
   "pygments_lexer": "ipython3",
   "version": "3.7.4"
  }
 },
 "nbformat": 4,
 "nbformat_minor": 4
}
