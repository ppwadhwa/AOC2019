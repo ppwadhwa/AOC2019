{
 "cells": [
  {
   "cell_type": "code",
   "execution_count": null,
   "metadata": {},
   "outputs": [],
   "source": [
    "import numpy as np"
   ]
  },
  {
   "cell_type": "code",
   "execution_count": null,
   "metadata": {},
   "outputs": [],
   "source": [
    "def check_valid(vals):\n",
    "    dfs = np.diff(vals)\n",
    "    c = np.where(dfs<0)\n",
    "    if len(c[0]) == 0:\n",
    "        valid = True\n",
    "    else:\n",
    "        valid = False\n",
    "        \n",
    "    if valid == True:\n",
    "        #check if there are any digits that are same\n",
    "        c= np.where(dfs==0)\n",
    "        if len(c[0])==0:\n",
    "            valid = False\n",
    "        else:\n",
    "            valid = True\n",
    "                    \n",
    "    return valid"
   ]
  },
  {
   "cell_type": "code",
   "execution_count": null,
   "metadata": {},
   "outputs": [],
   "source": [
    "vals = range(372304, 847061)"
   ]
  },
  {
   "cell_type": "code",
   "execution_count": null,
   "metadata": {},
   "outputs": [],
   "source": [
    "cnt = 0\n",
    "for n in range(len(vals)):\n",
    "    tmps = str(vals[n])\n",
    "    tmp = list(tmps)\n",
    "    tmp = list(map(int, tmp)) \n",
    "    result = check_valid(tmp)\n",
    "    if result == True:\n",
    "        #print(tmps)\n",
    "        cnt += 1"
   ]
  },
  {
   "cell_type": "code",
   "execution_count": null,
   "metadata": {},
   "outputs": [],
   "source": [
    "cnt"
   ]
  },
  {
   "cell_type": "code",
   "execution_count": null,
   "metadata": {},
   "outputs": [],
   "source": [
    "def check_valid2(vals):\n",
    "    dfs = np.diff(vals)\n",
    "    c = np.where(dfs<0)\n",
    "    if len(c[0]) == 0:\n",
    "        valid = True\n",
    "    else:\n",
    "        valid = False\n",
    "        \n",
    "    if valid == True:\n",
    "        #check if there are any digits that are same\n",
    "        c= np.where(dfs==0)\n",
    "        if len(c[0])==0:\n",
    "            valid = False\n",
    "        else:\n",
    "            #check that there are even numbers together:\n",
    "            dfs = list(map(str, dfs)) \n",
    "            dfs = ''.join(dfs)\n",
    "            separator = [\"1\",\"2\",\"3\",\"4\",\"5\", \"6\", \"7\", \"8\", \"9\", \"-1\",\"-2\",\"-3\",\"-4\",\"-5\", \"-6\", \"-7\", \"-8\", \"-9\"]\n",
    "            for sep in separator:\n",
    "                dfs = dfs.replace(sep, \";\")\n",
    "            #pdb.set_trace()\n",
    "            grps= dfs.split(';')\n",
    "            valid = False\n",
    "            for n in range(len(grps)):\n",
    "                if len(grps[n]) == 1:\n",
    "                #if len(grps[n]) > 0 and np.mod(len(grps[n]), 2) == 0:\n",
    "                    valid = True\n",
    "                    \n",
    "    return valid"
   ]
  },
  {
   "cell_type": "code",
   "execution_count": null,
   "metadata": {},
   "outputs": [],
   "source": [
    "cnt = 0\n",
    "for n in range(len(vals)):\n",
    "    tmps = str(vals[n])\n",
    "    tmp = list(tmps)\n",
    "    tmp = list(map(int, tmp)) \n",
    "    result = check_valid2(tmp)\n",
    "    if result == True:\n",
    "        #print(tmps)\n",
    "        cnt += 1"
   ]
  },
  {
   "cell_type": "code",
   "execution_count": null,
   "metadata": {},
   "outputs": [],
   "source": [
    "cnt"
   ]
  },
  {
   "cell_type": "code",
   "execution_count": null,
   "metadata": {},
   "outputs": [],
   "source": []
  }
 ],
 "metadata": {
  "kernelspec": {
   "display_name": "Python 3",
   "language": "python",
   "name": "python3"
  },
  "language_info": {
   "codemirror_mode": {
    "name": "ipython",
    "version": 3
   },
   "file_extension": ".py",
   "mimetype": "text/x-python",
   "name": "python",
   "nbconvert_exporter": "python",
   "pygments_lexer": "ipython3",
   "version": "3.7.4"
  }
 },
 "nbformat": 4,
 "nbformat_minor": 4
}
