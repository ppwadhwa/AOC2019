{
 "cells": [
  {
   "cell_type": "code",
   "execution_count": null,
   "metadata": {},
   "outputs": [],
   "source": [
    "vals = [1,12,2,3,1,1,2,3,1,3,4,3,1,5,0,3,2,6,1,19,1,5,19,23,2,9,23,27,1,6,27,31,1,31,9,35,2,35,10,39,1,5,39,43,2,43,9,47,1,5,47,51,1,51,5,55,1,55,9,59,2,59,13,63,1,63,9,67,1,9,67,71,2,71,10,75,1,75,6,79,2,10,79,83,1,5,83,87,2,87,10,91,1,91,5,95,1,6,95,99,2,99,13,103,1,103,6,107,1,107,5,111,2,6,111,115,1,115,13,119,1,119,2,123,1,5,123,0,99,2,0,14,0]"
   ]
  },
  {
   "cell_type": "code",
   "execution_count": null,
   "metadata": {},
   "outputs": [],
   "source": [
    "def wrap_incode(vals):\n",
    "    \n",
    "    idx = 0\n",
    "    while idx < len(vals) - 3:\n",
    "        if vals[idx] == 99:\n",
    "            #done\n",
    "            break\n",
    "        else:\n",
    "            vals = incode(vals, idx)\n",
    "        idx += 4\n",
    "    return vals\n",
    "    "
   ]
  },
  {
   "cell_type": "code",
   "execution_count": null,
   "metadata": {},
   "outputs": [],
   "source": [
    "def incode(vals, idx):\n",
    "    \n",
    "    if vals[idx] == 1:\n",
    "        pos1 = vals[idx+1]\n",
    "        pos2 = vals[idx+2]\n",
    "        pos3 = vals[idx+3]\n",
    "        sval = vals[pos1]+vals[pos2]\n",
    "        vals[pos3] = sval\n",
    "        return vals\n",
    "    elif vals[idx] == 2:\n",
    "        pos1 = vals[idx+1]\n",
    "        pos2 = vals[idx+2]\n",
    "        pos3 = vals[idx+3]\n",
    "        sval = vals[pos1]*vals[pos2]\n",
    "        vals[pos3] = sval\n",
    "        return vals\n",
    "    else:\n",
    "        return vals\n",
    "    \n",
    "        "
   ]
  },
  {
   "cell_type": "code",
   "execution_count": null,
   "metadata": {},
   "outputs": [],
   "source": [
    "test = wrap_incode(vals)"
   ]
  },
  {
   "cell_type": "code",
   "execution_count": null,
   "metadata": {},
   "outputs": [],
   "source": [
    "vals[0]"
   ]
  },
  {
   "cell_type": "code",
   "execution_count": null,
   "metadata": {},
   "outputs": [],
   "source": [
    "tgt = 19690720"
   ]
  },
  {
   "cell_type": "code",
   "execution_count": null,
   "metadata": {},
   "outputs": [],
   "source": [
    "for n in range(0, 100):\n",
    "    for m in range(0, 100):\n",
    "        vals = [1,12,2,3,1,1,2,3,1,3,4,3,1,5,0,3,2,6,1,19,1,5,19,23,2,9,23,27,1,6,27,31,1,31,9,35,2,35,10,39,1,5,39,43,2,43,9,47,1,5,47,51,1,51,5,55,1,55,9,59,2,59,13,63,1,63,9,67,1,9,67,71,2,71,10,75,1,75,6,79,2,10,79,83,1,5,83,87,2,87,10,91,1,91,5,95,1,6,95,99,2,99,13,103,1,103,6,107,1,107,5,111,2,6,111,115,1,115,13,119,1,119,2,123,1,5,123,0,99,2,0,14,0]\n",
    "        vals[1] = n\n",
    "        vals[2] = m\n",
    "        test = wrap_incode(vals)\n",
    "        if test[0] == tgt:\n",
    "            #pdb.set_trace()\n",
    "            break\n",
    "    if test[0] == tgt:\n",
    "        break"
   ]
  },
  {
   "cell_type": "code",
   "execution_count": null,
   "metadata": {},
   "outputs": [],
   "source": [
    "100 * test[1] + test[2]"
   ]
  }
 ],
 "metadata": {
  "kernelspec": {
   "display_name": "Python 3",
   "language": "python",
   "name": "python3"
  },
  "language_info": {
   "codemirror_mode": {
    "name": "ipython",
    "version": 3
   },
   "file_extension": ".py",
   "mimetype": "text/x-python",
   "name": "python",
   "nbconvert_exporter": "python",
   "pygments_lexer": "ipython3",
   "version": "3.7.4"
  }
 },
 "nbformat": 4,
 "nbformat_minor": 4
}
